{
  "nbformat": 4,
  "nbformat_minor": 0,
  "metadata": {
    "colab": {
      "provenance": [],
      "collapsed_sections": [],
      "machine_shape": "hm",
      "include_colab_link": true
    },
    "kernelspec": {
      "name": "python3",
      "display_name": "Python 3"
    },
    "language_info": {
      "name": "python"
    },
    "accelerator": "GPU"
  },
  "cells": [
    {
      "cell_type": "markdown",
      "metadata": {
        "id": "view-in-github",
        "colab_type": "text"
      },
      "source": [
        "<a href=\"https://colab.research.google.com/github/cdarbelaez/SolarForecastingElecEngUdeA/blob/main/HYBRID%20MODELS/A_Hybrid_Model_Multiple_out_V1.ipynb\" target=\"_parent\"><img src=\"https://colab.research.google.com/assets/colab-badge.svg\" alt=\"Open In Colab\"/></a>"
      ]
    },
    {
      "cell_type": "markdown",
      "source": [
        "**MODELO HÍBRIDO: Voting Regressor**\n",
        "> En este notebook buscaremos generar un modelo hibrido llamado Staking Regressor, que en base a datos historicos del GHI, nos permita obtener predicciones en horizontes de tiempo de 24 horas. \n",
        "\n",
        "Un regresor de votación es un metaestimador de conjunto que se ajusta a varios regresores base, cada uno en el conjunto de datos completo. Luego promedia las predicciones individuales para formar una predicción final.\n",
        "\n",
        "\n",
        "![VotingRegressor](https://stackabuse.s3.amazonaws.com/media/ensemble-voting-classification-in-python-with-scikit-learn-2.png)\n",
        "\n",
        "Fig 1. [Voting Regressor](https://stackabuse.s3.amazonaws.com/media/ensemble-voting-classification-in-python-with-scikit-learn-2.png)\n",
        "\n",
        "**BASE DE DATOS:** KENYA\n"
      ],
      "metadata": {
        "id": "6lmyrt4Ry3VF"
      }
    },
    {
      "cell_type": "code",
      "source": [
        "gpu_info = !nvidia-smi\n",
        "gpu_info = '\\n'.join(gpu_info)\n",
        "if gpu_info.find('failed') >= 0:\n",
        "  print('Not connected to a GPU')\n",
        "else:\n",
        "  print(gpu_info)"
      ],
      "metadata": {
        "id": "gwjNpN27ofGt",
        "colab": {
          "base_uri": "https://localhost:8080/"
        },
        "outputId": "15ddcb36-cb83-415e-9416-51ffe4cafc56"
      },
      "execution_count": null,
      "outputs": [
        {
          "output_type": "stream",
          "name": "stdout",
          "text": [
            "Thu May 26 02:48:26 2022       \n",
            "+-----------------------------------------------------------------------------+\n",
            "| NVIDIA-SMI 460.32.03    Driver Version: 460.32.03    CUDA Version: 11.2     |\n",
            "|-------------------------------+----------------------+----------------------+\n",
            "| GPU  Name        Persistence-M| Bus-Id        Disp.A | Volatile Uncorr. ECC |\n",
            "| Fan  Temp  Perf  Pwr:Usage/Cap|         Memory-Usage | GPU-Util  Compute M. |\n",
            "|                               |                      |               MIG M. |\n",
            "|===============================+======================+======================|\n",
            "|   0  Tesla T4            Off  | 00000000:00:04.0 Off |                    0 |\n",
            "| N/A   57C    P8    10W /  70W |      0MiB / 15109MiB |      0%      Default |\n",
            "|                               |                      |                  N/A |\n",
            "+-------------------------------+----------------------+----------------------+\n",
            "                                                                               \n",
            "+-----------------------------------------------------------------------------+\n",
            "| Processes:                                                                  |\n",
            "|  GPU   GI   CI        PID   Type   Process name                  GPU Memory |\n",
            "|        ID   ID                                                   Usage      |\n",
            "|=============================================================================|\n",
            "|  No running processes found                                                 |\n",
            "+-----------------------------------------------------------------------------+\n"
          ]
        }
      ]
    },
    {
      "cell_type": "markdown",
      "source": [
        "\n",
        "---\n",
        "# 1.   **SE IMPORTAN LAS BIBLIOTECAS NECESARIAS**\n",
        "\n",
        "---\n"
      ],
      "metadata": {
        "id": "u7YjZFmlzZVb"
      }
    },
    {
      "cell_type": "code",
      "source": [
        "pip install joblib"
      ],
      "metadata": {
        "colab": {
          "base_uri": "https://localhost:8080/"
        },
        "id": "B8NiGQIRL84q",
        "outputId": "7eff1e34-9b1f-4dec-f88e-589c385c5ecf"
      },
      "execution_count": null,
      "outputs": [
        {
          "output_type": "stream",
          "name": "stdout",
          "text": [
            "Looking in indexes: https://pypi.org/simple, https://us-python.pkg.dev/colab-wheels/public/simple/\n",
            "Requirement already satisfied: joblib in /usr/local/lib/python3.7/dist-packages (1.1.0)\n"
          ]
        }
      ]
    },
    {
      "cell_type": "code",
      "execution_count": null,
      "metadata": {
        "id": "0GAF8Ob1yzQl"
      },
      "outputs": [],
      "source": [
        "import matplotlib as mpl\n",
        "import matplotlib.pyplot as plt\n",
        "import numpy as np\n",
        "import os\n",
        "import pandas as pd\n",
        "import seaborn as sns\n",
        "from sklearn.svm import SVR\n",
        "from sklearn.tree import DecisionTreeRegressor\n",
        "from sklearn.ensemble import RandomForestRegressor as RFR\n",
        "from sklearn.ensemble import ExtraTreesRegressor \n",
        "from sklearn.ensemble import VotingRegressor\n",
        "from sklearn.metrics import mean_squared_error\n",
        "from sklearn.metrics import mean_absolute_error\n",
        "from sklearn.metrics import mean_absolute_percentage_error\n",
        "from sklearn.preprocessing import MinMaxScaler\n",
        "from sklearn.preprocessing import StandardScaler\n",
        "from sklearn.datasets import load_digits\n",
        "from sklearn.model_selection import learning_curve\n",
        "from sklearn.model_selection import ShuffleSplit\n",
        "import joblib \n",
        "from google.colab import drive "
      ]
    },
    {
      "cell_type": "code",
      "source": [
        "mpl.rcParams['figure.figsize'] = (8, 6) #Definimos el tamaño para las figuras de matplotlib\n",
        "mpl.rcParams['axes.grid'] = False"
      ],
      "metadata": {
        "id": "6q3q5IGSK_xB"
      },
      "execution_count": null,
      "outputs": []
    },
    {
      "cell_type": "markdown",
      "source": [
        "\n",
        "\n",
        "---\n",
        "\n",
        "\n",
        "# 2.   **SE CARGA EL DATASET PREVIAMENTE PROCESADO**\n",
        "\n",
        "---\n",
        "\n",
        "\n",
        "\n"
      ],
      "metadata": {
        "id": "oDrNB8PxziO1"
      }
    },
    {
      "cell_type": "code",
      "source": [
        "ruta='https://raw.githubusercontent.com/cdarbelaez/SolarForecastingElecEngUdeA/main/DATABASES/KENYA_LIMPIO.csv'\n",
        "data = pd.read_csv(ruta,encoding='utf-8') # Se hace la respectiva lectura, no se añade encabezado o indice, por lo que pondrá por defecto la numeracion\n",
        "data.set_index('time', inplace=True) # Establecemos cual será el indice del dataframe\n",
        "data.head() # Se muestran las 5 primeras filas del dataframe"
      ],
      "metadata": {
        "id": "vVXaUBYm6VIx",
        "colab": {
          "base_uri": "https://localhost:8080/"
        },
        "outputId": "81a5c33a-9508-4a4f-e292-05ff462765a8"
      },
      "execution_count": null,
      "outputs": [
        {
          "output_type": "execute_result",
          "data": {
            "text/plain": [
              "                     dhi_pyr  ghi_pyr_1  ghi_pyr_2  air_temperature  \\\n",
              "time                                                                  \n",
              "2019-12-12 00:00:00      0.0        0.0        0.0        22.725000   \n",
              "2019-12-12 00:15:00      0.0        0.0        0.0        22.580830   \n",
              "2019-12-12 00:30:00      0.0        0.0        0.0        22.600500   \n",
              "2019-12-12 00:45:00      0.0        0.0        0.0        22.610661   \n",
              "2019-12-12 01:00:00      0.0        0.0        0.0        22.651331   \n",
              "\n",
              "                     relative_humidity  barometric_pressure  precipitation  \\\n",
              "time                                                                         \n",
              "2019-12-12 00:00:00          99.003998           948.445923            0.0   \n",
              "2019-12-12 00:15:00          98.758003           948.415283            0.0   \n",
              "2019-12-12 00:30:00          98.003998           948.335022            0.0   \n",
              "2019-12-12 00:45:00          96.216003           948.203613            0.0   \n",
              "2019-12-12 01:00:00          97.160004           948.038818            0.0   \n",
              "\n",
              "                     wind_speed  wind_from_direction  gti_clean  gti_soil  \\\n",
              "time                                                                        \n",
              "2019-12-12 00:00:00    1.073283           169.845993        0.0       0.0   \n",
              "2019-12-12 00:15:00    0.727417           204.165405        0.0       0.0   \n",
              "2019-12-12 00:30:00    0.415667           188.567200        0.0       0.0   \n",
              "2019-12-12 00:45:00    1.380333           233.490707        0.0       0.0   \n",
              "2019-12-12 01:00:00    2.620333           181.092804        0.0       0.0   \n",
              "\n",
              "                     gti_monthly  sensor_cleaning  Hour  \n",
              "time                                                     \n",
              "2019-12-12 00:00:00          0.0              0.0     0  \n",
              "2019-12-12 00:15:00          0.0              0.0     0  \n",
              "2019-12-12 00:30:00          0.0              0.0     0  \n",
              "2019-12-12 00:45:00          0.0              0.0     0  \n",
              "2019-12-12 01:00:00          0.0              0.0     1  "
            ],
            "text/html": [
              "\n",
              "  <div id=\"df-c252b307-0052-47f2-90db-9a75d92e84f8\">\n",
              "    <div class=\"colab-df-container\">\n",
              "      <div>\n",
              "<style scoped>\n",
              "    .dataframe tbody tr th:only-of-type {\n",
              "        vertical-align: middle;\n",
              "    }\n",
              "\n",
              "    .dataframe tbody tr th {\n",
              "        vertical-align: top;\n",
              "    }\n",
              "\n",
              "    .dataframe thead th {\n",
              "        text-align: right;\n",
              "    }\n",
              "</style>\n",
              "<table border=\"1\" class=\"dataframe\">\n",
              "  <thead>\n",
              "    <tr style=\"text-align: right;\">\n",
              "      <th></th>\n",
              "      <th>dhi_pyr</th>\n",
              "      <th>ghi_pyr_1</th>\n",
              "      <th>ghi_pyr_2</th>\n",
              "      <th>air_temperature</th>\n",
              "      <th>relative_humidity</th>\n",
              "      <th>barometric_pressure</th>\n",
              "      <th>precipitation</th>\n",
              "      <th>wind_speed</th>\n",
              "      <th>wind_from_direction</th>\n",
              "      <th>gti_clean</th>\n",
              "      <th>gti_soil</th>\n",
              "      <th>gti_monthly</th>\n",
              "      <th>sensor_cleaning</th>\n",
              "      <th>Hour</th>\n",
              "    </tr>\n",
              "    <tr>\n",
              "      <th>time</th>\n",
              "      <th></th>\n",
              "      <th></th>\n",
              "      <th></th>\n",
              "      <th></th>\n",
              "      <th></th>\n",
              "      <th></th>\n",
              "      <th></th>\n",
              "      <th></th>\n",
              "      <th></th>\n",
              "      <th></th>\n",
              "      <th></th>\n",
              "      <th></th>\n",
              "      <th></th>\n",
              "      <th></th>\n",
              "    </tr>\n",
              "  </thead>\n",
              "  <tbody>\n",
              "    <tr>\n",
              "      <th>2019-12-12 00:00:00</th>\n",
              "      <td>0.0</td>\n",
              "      <td>0.0</td>\n",
              "      <td>0.0</td>\n",
              "      <td>22.725000</td>\n",
              "      <td>99.003998</td>\n",
              "      <td>948.445923</td>\n",
              "      <td>0.0</td>\n",
              "      <td>1.073283</td>\n",
              "      <td>169.845993</td>\n",
              "      <td>0.0</td>\n",
              "      <td>0.0</td>\n",
              "      <td>0.0</td>\n",
              "      <td>0.0</td>\n",
              "      <td>0</td>\n",
              "    </tr>\n",
              "    <tr>\n",
              "      <th>2019-12-12 00:15:00</th>\n",
              "      <td>0.0</td>\n",
              "      <td>0.0</td>\n",
              "      <td>0.0</td>\n",
              "      <td>22.580830</td>\n",
              "      <td>98.758003</td>\n",
              "      <td>948.415283</td>\n",
              "      <td>0.0</td>\n",
              "      <td>0.727417</td>\n",
              "      <td>204.165405</td>\n",
              "      <td>0.0</td>\n",
              "      <td>0.0</td>\n",
              "      <td>0.0</td>\n",
              "      <td>0.0</td>\n",
              "      <td>0</td>\n",
              "    </tr>\n",
              "    <tr>\n",
              "      <th>2019-12-12 00:30:00</th>\n",
              "      <td>0.0</td>\n",
              "      <td>0.0</td>\n",
              "      <td>0.0</td>\n",
              "      <td>22.600500</td>\n",
              "      <td>98.003998</td>\n",
              "      <td>948.335022</td>\n",
              "      <td>0.0</td>\n",
              "      <td>0.415667</td>\n",
              "      <td>188.567200</td>\n",
              "      <td>0.0</td>\n",
              "      <td>0.0</td>\n",
              "      <td>0.0</td>\n",
              "      <td>0.0</td>\n",
              "      <td>0</td>\n",
              "    </tr>\n",
              "    <tr>\n",
              "      <th>2019-12-12 00:45:00</th>\n",
              "      <td>0.0</td>\n",
              "      <td>0.0</td>\n",
              "      <td>0.0</td>\n",
              "      <td>22.610661</td>\n",
              "      <td>96.216003</td>\n",
              "      <td>948.203613</td>\n",
              "      <td>0.0</td>\n",
              "      <td>1.380333</td>\n",
              "      <td>233.490707</td>\n",
              "      <td>0.0</td>\n",
              "      <td>0.0</td>\n",
              "      <td>0.0</td>\n",
              "      <td>0.0</td>\n",
              "      <td>0</td>\n",
              "    </tr>\n",
              "    <tr>\n",
              "      <th>2019-12-12 01:00:00</th>\n",
              "      <td>0.0</td>\n",
              "      <td>0.0</td>\n",
              "      <td>0.0</td>\n",
              "      <td>22.651331</td>\n",
              "      <td>97.160004</td>\n",
              "      <td>948.038818</td>\n",
              "      <td>0.0</td>\n",
              "      <td>2.620333</td>\n",
              "      <td>181.092804</td>\n",
              "      <td>0.0</td>\n",
              "      <td>0.0</td>\n",
              "      <td>0.0</td>\n",
              "      <td>0.0</td>\n",
              "      <td>1</td>\n",
              "    </tr>\n",
              "  </tbody>\n",
              "</table>\n",
              "</div>\n",
              "      <button class=\"colab-df-convert\" onclick=\"convertToInteractive('df-c252b307-0052-47f2-90db-9a75d92e84f8')\"\n",
              "              title=\"Convert this dataframe to an interactive table.\"\n",
              "              style=\"display:none;\">\n",
              "        \n",
              "  <svg xmlns=\"http://www.w3.org/2000/svg\" height=\"24px\"viewBox=\"0 0 24 24\"\n",
              "       width=\"24px\">\n",
              "    <path d=\"M0 0h24v24H0V0z\" fill=\"none\"/>\n",
              "    <path d=\"M18.56 5.44l.94 2.06.94-2.06 2.06-.94-2.06-.94-.94-2.06-.94 2.06-2.06.94zm-11 1L8.5 8.5l.94-2.06 2.06-.94-2.06-.94L8.5 2.5l-.94 2.06-2.06.94zm10 10l.94 2.06.94-2.06 2.06-.94-2.06-.94-.94-2.06-.94 2.06-2.06.94z\"/><path d=\"M17.41 7.96l-1.37-1.37c-.4-.4-.92-.59-1.43-.59-.52 0-1.04.2-1.43.59L10.3 9.45l-7.72 7.72c-.78.78-.78 2.05 0 2.83L4 21.41c.39.39.9.59 1.41.59.51 0 1.02-.2 1.41-.59l7.78-7.78 2.81-2.81c.8-.78.8-2.07 0-2.86zM5.41 20L4 18.59l7.72-7.72 1.47 1.35L5.41 20z\"/>\n",
              "  </svg>\n",
              "      </button>\n",
              "      \n",
              "  <style>\n",
              "    .colab-df-container {\n",
              "      display:flex;\n",
              "      flex-wrap:wrap;\n",
              "      gap: 12px;\n",
              "    }\n",
              "\n",
              "    .colab-df-convert {\n",
              "      background-color: #E8F0FE;\n",
              "      border: none;\n",
              "      border-radius: 50%;\n",
              "      cursor: pointer;\n",
              "      display: none;\n",
              "      fill: #1967D2;\n",
              "      height: 32px;\n",
              "      padding: 0 0 0 0;\n",
              "      width: 32px;\n",
              "    }\n",
              "\n",
              "    .colab-df-convert:hover {\n",
              "      background-color: #E2EBFA;\n",
              "      box-shadow: 0px 1px 2px rgba(60, 64, 67, 0.3), 0px 1px 3px 1px rgba(60, 64, 67, 0.15);\n",
              "      fill: #174EA6;\n",
              "    }\n",
              "\n",
              "    [theme=dark] .colab-df-convert {\n",
              "      background-color: #3B4455;\n",
              "      fill: #D2E3FC;\n",
              "    }\n",
              "\n",
              "    [theme=dark] .colab-df-convert:hover {\n",
              "      background-color: #434B5C;\n",
              "      box-shadow: 0px 1px 3px 1px rgba(0, 0, 0, 0.15);\n",
              "      filter: drop-shadow(0px 1px 2px rgba(0, 0, 0, 0.3));\n",
              "      fill: #FFFFFF;\n",
              "    }\n",
              "  </style>\n",
              "\n",
              "      <script>\n",
              "        const buttonEl =\n",
              "          document.querySelector('#df-c252b307-0052-47f2-90db-9a75d92e84f8 button.colab-df-convert');\n",
              "        buttonEl.style.display =\n",
              "          google.colab.kernel.accessAllowed ? 'block' : 'none';\n",
              "\n",
              "        async function convertToInteractive(key) {\n",
              "          const element = document.querySelector('#df-c252b307-0052-47f2-90db-9a75d92e84f8');\n",
              "          const dataTable =\n",
              "            await google.colab.kernel.invokeFunction('convertToInteractive',\n",
              "                                                     [key], {});\n",
              "          if (!dataTable) return;\n",
              "\n",
              "          const docLinkHtml = 'Like what you see? Visit the ' +\n",
              "            '<a target=\"_blank\" href=https://colab.research.google.com/notebooks/data_table.ipynb>data table notebook</a>'\n",
              "            + ' to learn more about interactive tables.';\n",
              "          element.innerHTML = '';\n",
              "          dataTable['output_type'] = 'display_data';\n",
              "          await google.colab.output.renderOutput(dataTable, element);\n",
              "          const docLink = document.createElement('div');\n",
              "          docLink.innerHTML = docLinkHtml;\n",
              "          element.appendChild(docLink);\n",
              "        }\n",
              "      </script>\n",
              "    </div>\n",
              "  </div>\n",
              "  "
            ]
          },
          "metadata": {},
          "execution_count": 5
        }
      ]
    },
    {
      "cell_type": "markdown",
      "source": [
        "\n",
        "---\n",
        "\n",
        "\n",
        "# 3. **SE SELECCIONAN LOS DATOS A UTILIZAR PARA EL ENTRENAMIENTO DEL MODELO**\n",
        "\n",
        "\n",
        "---\n",
        "\n",
        "\n"
      ],
      "metadata": {
        "id": "HfwfymDC0A8L"
      }
    },
    {
      "cell_type": "markdown",
      "source": [
        "En el caso de este modelo, se utilizará la irradiancia GHI"
      ],
      "metadata": {
        "id": "XxWV7ljNt9uO"
      }
    },
    {
      "cell_type": "code",
      "source": [
        "features_considered =['ghi_pyr_1']# Definimos las columnas que se van a utilizar para el entrenamiento del modelo\n",
        "features = data[features_considered] # Creamos un dataframe con solo estos datos\n",
        "features.head() #Se muestran los 5 primeros datos\n",
        "TRAIN_SPLIT = 29600 #Definimos la cantidad de datos que se van a usar para el entrenamiento del modelo\n",
        "dataset = features.values # Convertimos el dataframe en un arreglo de numpy"
      ],
      "metadata": {
        "id": "38sLfY8Tyo1E"
      },
      "execution_count": null,
      "outputs": []
    },
    {
      "cell_type": "markdown",
      "source": [
        "\n",
        "---\n",
        "\n",
        "\n",
        "# 4.   **SE DEFINE LA FUNCIÓN QUE SE UTILIZA PARA LA PARTICIÓN DE LOS DATOS EN VENTANAS**\n",
        "\n",
        "--- "
      ],
      "metadata": {
        "id": "PlULL5Wm0bgi"
      }
    },
    {
      "cell_type": "code",
      "source": [
        "# dataset: Arreglo de numpy que contiene todos los datos de entrenamiento\n",
        "# target: Se entrega un array con los datos de la variable a la que se busca realizar la predicción, que en este caso será \"GHI\"\n",
        "# start: Desde que posición del dataset se van a generar las ventanas moviles\n",
        "# end: Hasta que posición del dataset se van a generar las ventanas moviles\n",
        "# history_size: Cantidad de datos que están dentro de la ventana \n",
        "# target_size: Cantidad de datos que tendrá la etiqueta (predicción)\n",
        "# step: Salto entre datos (Si se quiere que por ejemplo dato1,dato3,dato5, o dependiendo del salto)\n",
        "# single_step:\n",
        "\n",
        "def multivariate_data(dataset, target, start_index, end_index, history_size,\n",
        "                      target_size, step, single_step=False):\n",
        "   \n",
        "    #Se definen dos listas vacias\n",
        "    data = [] # Va a contener las caracteristicas que ya definimos como \"X\"\n",
        "    labels = [] # Va a contener las etiquetas que ya definimos como \"Y\"\n",
        "\n",
        "    start_index = start_index + history_size # Se define el inicio de la ventana de datos \n",
        "    if end_index is None: # Si no se indica hasta cual posición de los datos se generan las ventanas\n",
        "        end_index = len(dataset) - target_size # Por defecto genera las ventanas hasta el final de los datos\n",
        "\n",
        "    for i in range(start_index, end_index): # Un ciclo entre el rango de datos con que se van a generar las ventanas\n",
        "        indices = range(i-history_size, i, step) # en cada iteración se genera un rango de valores para escoger las ventanas\n",
        "                                                 # Ejemplo: Suponiendo las ventanas de 20 datos y un step=1:\n",
        "                                                 #          En la primera iteración el rango sera [0,1,2,3,..,19,20]\n",
        "                                                 #          En la segunda iteración el rango sera [1,2,3,4,..,20,21] \n",
        "                                                 #          En la tercera iteración el rango sera [2,3,4,5,..,21,22] \n",
        "                                                 #        Y asi sucesivamente hasta el final del ciclo\n",
        "                                                 # Ventana de 10 datos, step=2\n",
        "                                                 #          En la primera iteración el rango sera [0,2,..,18,20]\n",
        "                                                 #          En la segunda iteración el rango sera [2,4,6,8,..,20,22] \n",
        "                                                 #          En la tercera iteración el rango sera [4,6,8,10,..,22,24] \n",
        "                                                 #        Y asi sucesivamente hasta el final del ciclo\n",
        "\n",
        "        data.append(dataset[indices].T) #Se agrega en cada iteración a la lista de caracteristicas un array con los datos correspondientes al indice creado anteriormente\n",
        "                                      \n",
        "        if single_step: # Si la opción single_step es \"True\"\n",
        "            labels.append(target[i+target_size]) # Agrega a las etiquetas un solo dato en la posición indicada\n",
        "                                                 # Continuando el ejemplo anterior, si el target_size es 2 entonces el indice sera [22],[23],[24] para las tres primeras iteraciones\n",
        "        else:\n",
        "            labels.append(target[i:i+target_size]) # Hace el mismo proceso anterior, pero en este caso agregará más datos a las etiquetas,\n",
        "                                                   # Por ejemplo si el target_size fuese de 4 datos, continuando el ejemplo anterior, las tres primeras iteraciones serían asi:\n",
        "                                                   #                               [21,22,23,24]\n",
        "                                                   #                               [22,23,24,25]\n",
        "                                                   #                               [23,24,25,26]\n",
        "\n",
        "    return np.array(data), np.array(labels) # Convierte las listas en arreglos y las retorna"
      ],
      "metadata": {
        "id": "zrLXxPBy0fQR"
      },
      "execution_count": null,
      "outputs": []
    },
    {
      "cell_type": "markdown",
      "source": [
        "Utilizando la función anterior, creamos el set de entrenamiento y de validación para la red neuronal con la estructura mostrada, teniendo en cuenta que la matriz solo tendrá una caracteristica y, por tanto una sola columna asi:\n",
        "\n",
        "\n",
        "\\begin{equation}\n",
        "X_{m-v} =\n",
        "\\begin{bmatrix}\n",
        "C_{1,m-v} \\\\\n",
        "C_{1,m-(v+1)} \\\\\n",
        ". & \\\\\n",
        ". & \\\\\n",
        "C_{1,m} \n",
        "\\end{bmatrix}\n",
        ";    \n",
        "Y_{m-v}= \n",
        "\\begin{bmatrix}\n",
        "Y_{m+1}  \\\\\n",
        "Y_{m+2} \\\\\n",
        ". \\\\\n",
        ". \\\\\n",
        "Y_{m+z} \n",
        "\\end{bmatrix}\n",
        "\\end{equation}\n"
      ],
      "metadata": {
        "id": "CjsuJUWC0yZC"
      }
    },
    {
      "cell_type": "code",
      "source": [
        "past_history = 96    # Se define el tamaño de la ventana de datos pasados\n",
        "future_target = 1 # Se define la cantidad de datos futuros que se quieren predecir\n",
        "STEP = 1            # Se definen los saltos entre datos"
      ],
      "metadata": {
        "id": "W0hovPKuFDl8"
      },
      "execution_count": null,
      "outputs": []
    },
    {
      "cell_type": "code",
      "source": [
        "# Utilizando la función descrita anteriormente generamos los arreglos de datos que serán utilizados para el entrenamiento del modelo\n",
        "x_train, y_train = multivariate_data(dataset[:,0], dataset[:, 0], 0, \n",
        "                                                 TRAIN_SPLIT, past_history,\n",
        "                                                 future_target, STEP)\n",
        "\n",
        "#Utilizando la función descrita anteriormente generamos los arreglos de datos que serán utilizados para la validación del desempeño del modelo\n",
        "x_val, y_val = multivariate_data(dataset[:,0], dataset[:, 0],\n",
        "                                             TRAIN_SPLIT, None, past_history,\n",
        "                                             future_target, STEP)"
      ],
      "metadata": {
        "id": "h-1m16660xqz"
      },
      "execution_count": null,
      "outputs": []
    },
    {
      "cell_type": "markdown",
      "source": [
        "**4.1. Escalamos los datos**\n",
        "\n"
      ],
      "metadata": {
        "id": "L_o0Y60pXhJB"
      }
    },
    {
      "cell_type": "code",
      "source": [
        "scalerx = StandardScaler()\n",
        "scalery = StandardScaler()\n",
        "x_train = scalerx.fit_transform(x_train)\n",
        "y_train = scalery.fit_transform(y_train)\n",
        "x_val = scalerx.transform(x_val)\n",
        "y_val = scalery.transform(y_val)"
      ],
      "metadata": {
        "id": "6BvT3eszhh02"
      },
      "execution_count": null,
      "outputs": []
    },
    {
      "cell_type": "code",
      "source": [
        "#scalerx = MinMaxScaler()\n",
        "#scalery = MinMaxScaler()\n",
        "#x_train = scalerx.fit_transform(x_train)\n",
        "#y_train = scalery.fit_transform(y_train)\n",
        "#x_val = scalerx.transform(x_val)\n",
        "#y_val = scalery.transform(y_val)"
      ],
      "metadata": {
        "id": "IHSMjInNXg1I"
      },
      "execution_count": null,
      "outputs": []
    },
    {
      "cell_type": "markdown",
      "source": [
        "\n",
        "---\n",
        "\n",
        "\n",
        "# 5.   **FUNCIÓN PARA VISUALIZAR LOS RESULTADOS OBTENIDOS**\n",
        "\n",
        "\n",
        "---\n",
        "\n"
      ],
      "metadata": {
        "id": "IuZpVEmT7iTZ"
      }
    },
    {
      "cell_type": "code",
      "source": [
        "def create_time_steps(length): # Función que crea un array en un rango determinado por el tamaño de la ventana de datos\n",
        "    return list(range(-length, 0))\n",
        "\n",
        "# history: Un arreglo con la ventana de datos usada para la predicción\n",
        "# true_future: Arreglo con los datos conocidos que deberia arrojar la predicción \n",
        "# prediction: Arreglo con las predicciones obtenidas\n",
        "\n",
        "def multi_step_plot(history, true_future, prediction): \n",
        "    plt.figure(figsize=(12, 6)) # Se define el tamaño de la figura\n",
        "    num_in = create_time_steps(len(history)) #Tamaño de la curva de datos pasados\n",
        "    num_out = len(true_future) # Tamaño de la curva de datos futuros\n",
        "    plt.plot(num_in, history, label='History') # Graficamos datos pasados\n",
        "    plt.plot(np.arange(num_out)/STEP, np.array(true_future), 'y--',\n",
        "           label='True Future') #Graficamos datos furutos\n",
        "    if prediction.any(): # Si se ingresan datos sobre las predicciones\n",
        "        plt.plot(np.arange(num_out)/STEP, np.array(prediction), 'r--', #Grafica tambien las predicciones\n",
        "                 label='Predicted Future')\n",
        "    plt.legend(loc='upper left') # Ajustes de la grafica\n",
        "    plt.grid()\n",
        "    plt.show() # Se muestra la grafica"
      ],
      "metadata": {
        "id": "iVUXWSII2QAm"
      },
      "execution_count": null,
      "outputs": []
    },
    {
      "cell_type": "markdown",
      "source": [
        "\n",
        "**Se cargan los modelos preentrenados** 💽 (OPCIONAL) **Se utiliza el método de \"PERSISTENCIA DEL MODELO\"**\n"
      ],
      "metadata": {
        "id": "PtMlH28GDidv"
      }
    },
    {
      "cell_type": "markdown",
      "source": [
        "Para cargar el modelo, se debe asegurar que esté guardado en el mismo directorio que el script que se ejecute"
      ],
      "metadata": {
        "id": "xJQ31IyLG80K"
      }
    },
    {
      "cell_type": "code",
      "source": [
        "#R1 = 'gdrive/My Drive/Colab Notebooks/Proyecto Seneca/Modelos entrenados/4_SVR.pkl'\n",
        "#R2 = 'gdrive/My Drive/Colab Notebooks/Proyecto Seneca/Modelos entrenados/6_DecisionTree.pkl'\n",
        "#R3 = 'gdrive/My Drive/Colab Notebooks/Proyecto Seneca/Modelos entrenados/7_RandomForest.pkl'\n",
        "#R4 = 'gdrive/My Drive/Colab Notebooks/Proyecto Seneca/Modelos entrenados/10_ExtraTrees.pkl'"
      ],
      "metadata": {
        "id": "qVkTyGPEbwHf"
      },
      "execution_count": null,
      "outputs": []
    },
    {
      "cell_type": "code",
      "source": [
        "#SVR= joblib.load(R1) # Carga del modelo.\n",
        "#DecisionTree= joblib.load(R2) # Carga del modelo.\n",
        "#RandomForest= joblib.load(R3) # Carga del modelo.\n",
        "#ExtraTrees= joblib.load(R4) # Carga del modelo."
      ],
      "metadata": {
        "id": "F4sslK1yG8fl"
      },
      "execution_count": null,
      "outputs": []
    },
    {
      "cell_type": "markdown",
      "source": [
        "---\n",
        " # 6. **CREACIÓN Y ENTRENAMIENTO DEL MODELO**\n",
        "\n",
        "---\n"
      ],
      "metadata": {
        "id": "3CjsBXe7qW2b"
      }
    },
    {
      "cell_type": "markdown",
      "source": [
        "- **Support vector regressor**"
      ],
      "metadata": {
        "id": "POOLSM9grSt5"
      }
    },
    {
      "cell_type": "code",
      "source": [
        "model1 = SVR(kernel='rbf',gamma=0.5, C=10, epsilon = 0.05)\n",
        "model1.fit(x_train, y_train[:,0])"
      ],
      "metadata": {
        "colab": {
          "base_uri": "https://localhost:8080/"
        },
        "id": "273gEX-6qWaE",
        "outputId": "2b043894-3461-4747-c1ad-ce6da507ed0f"
      },
      "execution_count": null,
      "outputs": [
        {
          "output_type": "execute_result",
          "data": {
            "text/plain": [
              "SVR(C=10, epsilon=0.05, gamma=0.5)"
            ]
          },
          "metadata": {},
          "execution_count": 15
        }
      ]
    },
    {
      "cell_type": "markdown",
      "source": [
        "- **Decision Tree**"
      ],
      "metadata": {
        "id": "OBIG-uRprWCz"
      }
    },
    {
      "cell_type": "code",
      "source": [
        "model2 = DecisionTreeRegressor(random_state = 0) \n",
        "model2.fit(x_train, y_train[:,0])"
      ],
      "metadata": {
        "colab": {
          "base_uri": "https://localhost:8080/"
        },
        "id": "4frmtj89qU2K",
        "outputId": "4e3521ba-fdf6-4ba5-fd41-761a4f99a904"
      },
      "execution_count": null,
      "outputs": [
        {
          "output_type": "execute_result",
          "data": {
            "text/plain": [
              "DecisionTreeRegressor(random_state=0)"
            ]
          },
          "metadata": {},
          "execution_count": 16
        }
      ]
    },
    {
      "cell_type": "markdown",
      "source": [
        "- **Random Forest**"
      ],
      "metadata": {
        "id": "sIAoeyNnrnui"
      }
    },
    {
      "cell_type": "code",
      "source": [
        "model3 = RFR()\n",
        "model3.fit(x_train, y_train[:,0])"
      ],
      "metadata": {
        "colab": {
          "base_uri": "https://localhost:8080/"
        },
        "id": "UWqnxkcFroaa",
        "outputId": "5c2fdcd5-b9f8-433b-deb0-f142ea2ac239"
      },
      "execution_count": null,
      "outputs": [
        {
          "output_type": "execute_result",
          "data": {
            "text/plain": [
              "RandomForestRegressor()"
            ]
          },
          "metadata": {},
          "execution_count": 17
        }
      ]
    },
    {
      "cell_type": "markdown",
      "source": [
        "- **Extra Tree**"
      ],
      "metadata": {
        "id": "LXJpSMYjr1uD"
      }
    },
    {
      "cell_type": "code",
      "source": [
        "model4 = ExtraTreesRegressor()\n",
        "model4.fit(x_train, y_train[:,0])"
      ],
      "metadata": {
        "colab": {
          "base_uri": "https://localhost:8080/"
        },
        "id": "MxjXastir84J",
        "outputId": "1684fa65-5a59-41d8-a87c-e936685de72f"
      },
      "execution_count": null,
      "outputs": [
        {
          "output_type": "execute_result",
          "data": {
            "text/plain": [
              "ExtraTreesRegressor()"
            ]
          },
          "metadata": {},
          "execution_count": 18
        }
      ]
    },
    {
      "cell_type": "markdown",
      "source": [
        "\n",
        "**6.2 CREACIÓN Y ENTRENAMIENTO DEL COMBINADOR DE PRONOSTICOS** 💻\n"
      ],
      "metadata": {
        "id": "uDeV5LVcsU7u"
      }
    },
    {
      "cell_type": "code",
      "source": [
        "model = VotingRegressor([('svr', model1), ('dt', model2),('rf', model3),('et', model4)])\n",
        "model.fit(x_train, y_train[:,0])"
      ],
      "metadata": {
        "colab": {
          "base_uri": "https://localhost:8080/"
        },
        "id": "A_DYk2BCsYsd",
        "outputId": "523bb876-0ce8-419e-e9b3-c1ca03d95ddd"
      },
      "execution_count": null,
      "outputs": [
        {
          "output_type": "execute_result",
          "data": {
            "text/plain": [
              "VotingRegressor(estimators=[('svr', SVR(C=10, epsilon=0.05, gamma=0.5)),\n",
              "                            ('dt', DecisionTreeRegressor(random_state=0)),\n",
              "                            ('rf', RandomForestRegressor()),\n",
              "                            ('et', ExtraTreesRegressor())])"
            ]
          },
          "metadata": {},
          "execution_count": 19
        }
      ]
    },
    {
      "cell_type": "markdown",
      "source": [
        "\n",
        "---\n",
        "\n",
        "\n",
        "# 7. **RESULTADOS** 📃\n",
        "\n",
        "\n",
        "---\n",
        "\n",
        "\n"
      ],
      "metadata": {
        "id": "0Sxr2Uu9adQH"
      }
    },
    {
      "cell_type": "markdown",
      "source": [
        "- **Porcentaje de ajuste del modelo**"
      ],
      "metadata": {
        "id": "NwCXnEMbBEJd"
      }
    },
    {
      "cell_type": "code",
      "source": [
        "model.score(x_train, y_train[:,0])"
      ],
      "metadata": {
        "colab": {
          "base_uri": "https://localhost:8080/"
        },
        "id": "XXX-sowCH_1g",
        "outputId": "da6e2cf6-559c-4e36-8a51-d35db7fab446"
      },
      "execution_count": null,
      "outputs": [
        {
          "output_type": "execute_result",
          "data": {
            "text/plain": [
              "0.9994610891911371"
            ]
          },
          "metadata": {},
          "execution_count": 20
        }
      ]
    },
    {
      "cell_type": "markdown",
      "source": [
        "- **Función para realizar predicciones iterativas**"
      ],
      "metadata": {
        "id": "iLKjB_IzBR5b"
      }
    },
    {
      "cell_type": "code",
      "source": [
        "def predecir(x,n_pred):\n",
        "  pred = []\n",
        "  for i in range(n_pred):\n",
        "    if i == 0:\n",
        "      pred.append((model.predict([x]))[0])\n",
        "    else:\n",
        "      tmp = list(x)+pred\n",
        "      tmp = tmp[i:]\n",
        "      pred.append((model.predict(np.array([tmp])))[0])\n",
        "  #print(pred)\n",
        "  return np.array(pred)\n"
      ],
      "metadata": {
        "id": "bt9PngRIHKLU"
      },
      "execution_count": null,
      "outputs": []
    },
    {
      "cell_type": "markdown",
      "source": [
        "- **Se realizan las predicciones iterativas para un día**"
      ],
      "metadata": {
        "id": "LBeOYCs0BafU"
      }
    },
    {
      "cell_type": "code",
      "source": [
        "n=96\n",
        "p = predecir(x_val[180], n_pred=n)\n",
        "yh = y_val[180:n+180][:,0]\n",
        "mae = abs(p-yh).mean()"
      ],
      "metadata": {
        "id": "-_VBhmKMJBF6"
      },
      "execution_count": null,
      "outputs": []
    },
    {
      "cell_type": "markdown",
      "source": [
        "- **Reescalado de los datos**"
      ],
      "metadata": {
        "id": "xKUpIPuThHe1"
      }
    },
    {
      "cell_type": "code",
      "source": [
        "xp=scalerx.inverse_transform([x_val[180]])\n",
        "yhp=scalery.inverse_transform(y_val[180:n+180])\n",
        "pp=scalery.inverse_transform([p])"
      ],
      "metadata": {
        "id": "cG4HH0HkkXKi"
      },
      "execution_count": null,
      "outputs": []
    },
    {
      "cell_type": "markdown",
      "source": [
        "- **Presentación gráfica de los resultados**"
      ],
      "metadata": {
        "id": "VUpC78uWBobL"
      }
    },
    {
      "cell_type": "code",
      "source": [
        "multi_step_plot(xp[0], yhp, pp[0])\n",
        "print(\"El MAPE para un horizonte de pronostico de\",n*15,\"minutos es de:\",mae*100,\"%\")"
      ],
      "metadata": {
        "colab": {
          "base_uri": "https://localhost:8080/",
          "height": 391
        },
        "id": "01WNpNFvhGYd",
        "outputId": "3eab8b37-47be-4e56-eb78-3781ff126365"
      },
      "execution_count": null,
      "outputs": [
        {
          "output_type": "display_data",
          "data": {
            "text/plain": [
              "<Figure size 864x432 with 1 Axes>"
            ],
            "image/png": "[encoded data removed]"
          },
          "metadata": {
            "needs_background": "light"
          }
        },
        {
          "output_type": "stream",
          "name": "stdout",
          "text": [
            "El MAPE para un horizonte de pronostico de 1440 minutos es de: 9.640716027652244 %\n"
          ]
        }
      ]
    },
    {
      "cell_type": "code",
      "source": [
        "tMAE = []\n",
        "tRMSE = []\n",
        "for i in range(0,len(y_val),96):\n",
        "  n=96\n",
        "  p = predecir(x_train[i], n_pred=n)\n",
        "  yh = y_train[i:n+i][:,0]\n",
        "  xp=scalerx.inverse_transform([x_train[i]])\n",
        "  yhp=scalery.inverse_transform(y_train[i:n+i])\n",
        "  pp=scalery.inverse_transform([p])\n",
        "  tMAE.append((abs(yhp-pp)).mean())\n",
        "  tRMSE.append(((abs(yhp-pp)**2).mean())**0.5)\n",
        "\n",
        "trainMAE=np.array(tMAE).mean()\n",
        "trainRMSE=np.array(tRMSE).mean()\n",
        "\n",
        "vMAE = []\n",
        "vRMSE = []\n",
        "for i in range(0,len(y_val),96):\n",
        "  n=96\n",
        "  p = predecir(x_val[i], n_pred=n)\n",
        "  yh = y_val[i:n+i][:,0]\n",
        "  xp=scalerx.inverse_transform([x_val[i]])\n",
        "  yhp=scalery.inverse_transform(y_val[i:n+i])\n",
        "  pp=scalery.inverse_transform([p])\n",
        "  vMAE.append((abs(yhp-pp)).mean())\n",
        "  vRMSE.append(((abs(yhp-pp)**2).mean())**0.5)\n",
        "\n",
        "valMAE=np.array(vMAE).mean()\n",
        "valRMSE=np.array(vRMSE).mean()\n",
        "\n",
        "print(\"-----------------------------------\")\n",
        "print(\"|  PARA EL SET COMPLETO DE DATOS   |\")\n",
        "print(\"----------------------------------\")\n",
        "print(\"|  MAE   |   MAPE[%] |       RMSE  |    <-------- Datos de entrenamiento\")\n",
        "print(\"----------------------------------\")\n",
        "print(\"%9.4f%12.4f%12.4f\"%(trainMAE,0,trainRMSE))\n",
        "print(\"----------------------------------\")\n",
        "print(\"|  MAE   |   MAPE[%] |       RMSE  |    <-------- Datos de validación\")\n",
        "print(\"----------------------------------\")\n",
        "print(\"%9.4f%12.4f%12.4f\"%(valMAE,0,valRMSE))\n",
        "print(\"----------------------------------\")"
      ],
      "metadata": {
        "id": "G_V0rhoY-wl9",
        "colab": {
          "base_uri": "https://localhost:8080/"
        },
        "outputId": "20763e65-3026-4347-dc34-b57f4ee1ee41"
      },
      "execution_count": null,
      "outputs": [
        {
          "output_type": "stream",
          "name": "stdout",
          "text": [
            "-----------------------------------\n",
            "|  PARA EL SET COMPLETO DE DATOS   |\n",
            "----------------------------------\n",
            "|  MAE   |   MAPE[%] |       RMSE  |    <-------- Datos de entrenamiento\n",
            "----------------------------------\n",
            " 402.5092      0.0000    548.4990\n",
            "----------------------------------\n",
            "|  MAE   |   MAPE[%] |       RMSE  |    <-------- Datos de validación\n",
            "----------------------------------\n",
            " 415.0164      0.0000    563.1136\n",
            "----------------------------------\n"
          ]
        }
      ]
    },
    {
      "cell_type": "markdown",
      "source": [
        "- **Cálculo del error para el dataset completo**"
      ],
      "metadata": {
        "id": "OSVq-fpu3-PM"
      }
    },
    {
      "cell_type": "code",
      "source": [
        "y_pred1 = model.predict(x_train)\n",
        "y_pred2 = model.predict(x_val)\n",
        "y_re1 = scalery.inverse_transform([model.predict(x_train)])\n",
        "y_re2 = scalery.inverse_transform([model.predict(x_val)])\n",
        "y_t1 = scalery.inverse_transform(y_train)\n",
        "y_v2 = scalery.inverse_transform(y_val)"
      ],
      "metadata": {
        "id": "NK7N_9f74j3P"
      },
      "execution_count": null,
      "outputs": []
    },
    {
      "cell_type": "code",
      "source": [
        "trainMSE = mean_squared_error(y_t1, y_re1[0])\n",
        "valMSE = mean_squared_error(y_v2, y_re2[0])\n",
        "trainMAE = mean_absolute_error(y_t1, y_re1[0])\n",
        "valMAE = mean_absolute_error(y_v2, y_re2[0])\n",
        "trainMAPE = mean_absolute_percentage_error(y_train, y_pred1)\n",
        "valMAPE = mean_absolute_percentage_error(y_v2, y_re2[0])"
      ],
      "metadata": {
        "id": "nhn7dkow395D"
      },
      "execution_count": null,
      "outputs": []
    },
    {
      "cell_type": "code",
      "source": [
        "print(\"----------------------------------\")\n",
        "print(\"|  MAE   |   MAPE[%] |       RMSE  |    <-------- Datos de entrenamiento\")\n",
        "print(\"----------------------------------\")\n",
        "print(\"%9.4f%12.4f%12.4f\"%(trainMAE,trainMAPE,trainMSE**(1/2)))\n",
        "print(\"----------------------------------\")\n",
        "print(\"|  MAE   |   MAPE[%] |       RMSE  |    <-------- Datos de validación\")\n",
        "print(\"----------------------------------\")\n",
        "print(\"%9.4f%12.4f%12.4f\"%(valMAE,valMAPE,valMSE**(1/2)))\n",
        "print(\"----------------------------------\")\n"
      ],
      "metadata": {
        "colab": {
          "base_uri": "https://localhost:8080/"
        },
        "id": "c1dq8g-D_3_Q",
        "outputId": "5dc954c5-ca8a-4467-ca07-928aa79b4c36"
      },
      "execution_count": null,
      "outputs": [
        {
          "output_type": "stream",
          "name": "stdout",
          "text": [
            "----------------------------------\n",
            "|  MAE   |   MAPE[%] |       RMSE  |    <-------- Datos de entrenamiento\n",
            "----------------------------------\n",
            "   6.4571      0.0754      9.5481\n",
            "----------------------------------\n",
            "|  MAE   |   MAPE[%] |       RMSE  |    <-------- Datos de validación\n",
            "----------------------------------\n",
            "  39.683839241098687454936.0000     79.9286\n",
            "----------------------------------\n"
          ]
        }
      ]
    },
    {
      "cell_type": "code",
      "source": [
        "\n",
        "print(\"---------------------------------------------------\")\n",
        "print(\"|  Predicted |  Actual   |    MAE   |    MAPE[%]  |\")\n",
        "print(\"---------------------------------------------------\")\n",
        "for i in range(100,150):\n",
        "  pr=model.predict(x_val[i:i+1])\n",
        "  yhat=y_val[i][0]\n",
        "  print(\"%11.6f%12.6f%12.6f%12.3f\"%(pr,yhat,abs(pr-yhat),abs((pr-yhat))*100/pr))\n",
        "print(\"--------------------------------------------------\")"
      ],
      "metadata": {
        "colab": {
          "base_uri": "https://localhost:8080/"
        },
        "id": "61FWUThL3oZb",
        "outputId": "254ec6e1-c04d-47fe-80be-6c32be7733f6"
      },
      "execution_count": null,
      "outputs": [
        {
          "output_type": "stream",
          "name": "stdout",
          "text": [
            "---------------------------------------------------\n",
            "|  Predicted |  Actual   |    MAE   |    MAPE[%]  |\n",
            "---------------------------------------------------\n",
            "   1.273071    1.275500    0.002430       0.191\n",
            "   1.310750    1.387047    0.076297       5.821\n",
            "   1.441730    1.467878    0.026149       1.814\n",
            "   1.485363    1.552291    0.066929       4.506\n",
            "   1.601802    1.624009    0.022207       1.386\n",
            "   1.659003    1.686831    0.027828       1.677\n",
            "   1.754764    1.724722    0.030042       1.712\n",
            "   1.751189    1.766305    0.015115       0.863\n",
            "   1.854336    1.802473    0.051863       2.797\n",
            "   1.860152    1.877996    0.017845       0.959\n",
            "   1.897756    1.933569    0.035813       1.887\n",
            "   1.970062    1.953157    0.016905       0.858\n",
            "   1.893138    1.997140    0.104003       5.494\n",
            "   1.934892    1.981490    0.046598       2.408\n",
            "   1.988005    1.759256    0.228750      11.506\n",
            "   1.777825    1.616146    0.161679       9.094\n",
            "   1.641766    1.571315    0.070451       4.291\n",
            "   1.551041    1.480845    0.070196       4.526\n",
            "   1.369431    1.490139    0.120708       8.814\n",
            "   1.372087    1.358361    0.013725       1.000\n",
            "   1.248088    1.293428    0.045341       3.633\n",
            "   1.167676    1.194291    0.026614       2.279\n",
            "   1.056315    1.142724    0.086409       8.180\n",
            "   0.913335    0.974654    0.061319       6.714\n",
            "   0.751904    0.854272    0.102367      13.614\n",
            "   0.597234    0.827929    0.230694      38.627\n",
            "   0.347434    0.491244    0.143810      41.392\n",
            "   0.307174    0.258776    0.048398      15.756\n",
            "   0.090196    0.106136    0.015940      17.673\n",
            "  -0.150333   -0.040571    0.109762     -73.013\n",
            "  -0.270880   -0.184933    0.085948     -31.729\n",
            "  -0.384274   -0.412280    0.028006      -7.288\n",
            "  -0.553401   -0.587625    0.034225      -6.184\n",
            "  -0.679838   -0.709804    0.029966      -4.408\n",
            "  -0.744070   -0.746891    0.002820      -0.379\n",
            "  -0.753781   -0.753928    0.000147      -0.020\n",
            "  -0.752352   -0.753928    0.001576      -0.209\n",
            "  -0.752626   -0.753928    0.001302      -0.173\n",
            "  -0.752427   -0.753928    0.001501      -0.199\n",
            "  -0.752485   -0.753928    0.001443      -0.192\n",
            "  -0.752455   -0.753928    0.001473      -0.196\n",
            "  -0.752436   -0.753928    0.001492      -0.198\n",
            "  -0.752468   -0.753928    0.001460      -0.194\n",
            "  -0.752531   -0.753928    0.001397      -0.186\n",
            "  -0.752577   -0.753928    0.001351      -0.180\n",
            "  -0.752618   -0.753928    0.001310      -0.174\n",
            "  -0.752518   -0.753928    0.001410      -0.187\n",
            "  -0.752478   -0.753928    0.001450      -0.193\n",
            "  -0.752496   -0.753928    0.001432      -0.190\n",
            "  -0.752424   -0.753928    0.001504      -0.200\n",
            "--------------------------------------------------\n"
          ]
        }
      ]
    }
  ]
}