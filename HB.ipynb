{
  "nbformat": 4,
  "nbformat_minor": 0,
  "metadata": {
    "colab": {
      "name": "HB.ipynb",
      "provenance": [],
      "authorship_tag": "ABX9TyN9CQ/ttqxqMDj0xCXGxX7b",
      "include_colab_link": true
    },
    "kernelspec": {
      "name": "python3",
      "display_name": "Python 3"
    },
    "language_info": {
      "name": "python"
    }
  },
  "cells": [
    {
      "cell_type": "markdown",
      "metadata": {
        "id": "view-in-github",
        "colab_type": "text"
      },
      "source": [
        "<a href=\"https://colab.research.google.com/github/cdarbelaez/SolarForecastingElecEngUdeA/blob/main/HB.ipynb\" target=\"_parent\"><img src=\"https://colab.research.google.com/assets/colab-badge.svg\" alt=\"Open In Colab\"/></a>"
      ]
    },
    {
      "cell_type": "code",
      "source": [
        "def f1():\n",
        "  print(\"\"\"\n",
        "\n",
        "FELIZ CUMPLEAÑOS AL NUEVO PROGRAMADOR DE LA CASA! DE PARTE DE CAMILA Y CRISTIAN\n",
        "\n",
        "                         MUCHOS EXITOS EN LO QUE VIENE!\n",
        "\n",
        "                            ✄╔╗─╔╗\n",
        "                            ✄║║─║║\n",
        "                            ✄║╚═╝╠══╦══╦══╦╗─╔╗\n",
        "                            ✄║╔═╗║╔╗║╔╗║╔╗║║─║║\n",
        "                            ✄║║─║║╔╗║╚╝║╚╝║╚═╝║\n",
        "                            ✄╚╝─╚╩╝╚╣╔═╣╔═╩═╗╔╝\n",
        "                            ✄───────║║─║║─╔═╝║\n",
        "                            ✄───────╚╝─╚╝─╚══╝\n",
        "                            ✄╔══╗───╔╗╔╗───╔╗──────╔╗\n",
        "                            ✄║╔╗║──╔╝╚╣║───║║──────║║\n",
        "                            ✄║╚╝╚╦╦╩╗╔╣╚═╦═╝╠══╦╗─╔╣║\n",
        "                            ✄║╔═╗╠╣╔╣║║╔╗║╔╗║╔╗║║─║╠╝\n",
        "                            ✄║╚═╝║║║║╚╣║║║╚╝║╔╗║╚═╝╠╗\n",
        "                            ✄╚═══╩╩╝╚═╩╝╚╩══╩╝╚╩═╗╔╩╝\n",
        "                            ✄──────────────────╔═╝║\n",
        "                            ✄──────────────────╚══╝\n",
        "\n",
        "  ;;;:;;;;;;;;;;;;;;;;;;;;;;;;,,,,,,,,,,,,',,,,,,'''''''''''''''''''....''''''....\n",
        ":::::::;;;;:;;;;;;;::;;;;;;;;;;;;,,,,,,'''''''',''''''''''''''''''''.....'',,'..\n",
        ";:::::;;;;:::;;;;:::;;;;;;,;;,,,''..................''''''''''''''''''''''.'','.\n",
        ";;;;;;;;;;;;;;;;;:::;;;;;,,'.... ........................''''''''''',,''''..''''\n",
        ";;;;;;;;;;::::;;;;;:;;;,'.........',,,,,,,,;;,'''.....  ....'''',,'',,''''.....'\n",
        ",,,,,,,,;;;;;;;;;;;;,.......,;;;;,,;;;,,,,,;;;,,'''''....  ....''',,,:cl:''.....\n",
        ",,,,,,,,,,,,,,,,,'.......';:llllcccllllccc::::::;,,,,,,,'......;::::coxOkl,'''..\n",
        ",,,,,,,,,,,,',,... ...';:cooddddddxxxxkkxxxdddolllllllloolc:,...,:;;;:cdkko;''''\n",
        "lllccccccccc::'. ..,:cclodddddxxxxxxkkkkkkkkkxxxddxxkkkkkxxdol:,.';;;;;:clllc,..\n",
        "llllllllllclc'...':loddddxxxxxxxkkkkkkkkkkkkkkkkkkkkkkkkkxxxxdol:'.',,'.',cool:'\n",
        "llllllclccc:'...':loddddddxxxxkkkkkkkkkkkkkkkkkkkkkkkkkkkxxxxddolc,.........'...\n",
        "lllccccccc;.....;looddddxxxxxxkkkkkkkOOkkkkOOOkkkkkkkkkkkxxxxdddolc;'....  ...',\n",
        "cccccccc:;...'',coooddxxxxxxxkkkkkkOOOOOkkOOOOOkOOkkkkkkkkxxxdddolcc;.....';:c:;\n",
        ";::cccc:,....',:lddoddxxxxxxkkkOOOOOOOOOOOOkkkOOOOOOkkkkkkxxxddddollc,.,::::;;;:\n",
        ",,,;::;'.....':lodddddxxxxkkkOOOOOOOOOOOOOOOOOOOOOOOOOkkkkkxxxdddollc;'.',;;:ccc\n",
        "::;;;,'.....':loodddddxxxxkkkOOOOOOOOOOOOOOOOOOOOOOOOOOkkkkxxxddooolc:,..;:ccccc\n",
        "ccccc:,....'cododooocccclodxxkkkkkkkkkkkkkOkkOOOOOOOOOkkkkkxxxddooollc,..;cccccc\n",
        "cccccc,...,ldddol;'.......',:cclodxkkkxxxkOOOOOOOOOOOkkkkkkxxxxxdoollc,..,cccccc\n",
        "cccccc;..'cddooc,...''''........',:cloooodxkOOOOOkkkxxxdxxxdddddollccc;..'cccccc\n",
        "cccccc:..,lddolcccloooolllc:;,'...',:clllldkkkkkkxxdolc::;;;;,,,'''';::,.,cccccc\n",
        "llllcl:..,ldddoldxxddxddxxxddolc:::::cclodxxkkkxxxolc;,'........... ..;;',::::::\n",
        "xdddddl'.,lddddoddddoooodddooollllccllloddxkkkkxdolc:;,,'',,,,,;,,'...,;',::;:;;\n",
        "KKKKOOx;.;odddddooolc:::,',,,:cccccllooddxxkOkkxdlcc::::ccllooddoolc;,;;.',,,,,,\n",
        "KKKKxdo;':oddxxdlc;,',::'....;cc::loooodddxkOkxdocccccccccccloollollc::;..''',;;\n",
        "XKXKkddc,cdddkxdolc::::cc;',:lllc:loooodddxkkkxdocccc:;:;'...';;;:::ccc,..,;::cc\n",
        "KKXKxodc:lddxxxxxdddooooooolllllooodooddxxxkkkxdolccc::cc,..';:,'.',;cl;..,;:c::\n",
        "kkkkxdoccoddxxxxxxxxxxxxxxxxddddddddddxxxkkkkkxxdlccllllccc::::;,'',;cl:'',;::::\n",
        ";,,:oxocldddxxxkkkkkkkkkkkkxxxxxxxxxxxxxxkkkkkxxdolllooollllllllcccccloc;::ccccc\n",
        ",'':dxxoodddxxxxkkkkOOOkkkkxxkkkkkxxddxxxxkkkkxxdolloodoodddddoooooolooc:coxdlcc\n",
        "'''cdxxddddxxxxkkkkOOOOOkkkkkkkkkxxdddxxxxkkkkxxdollodddddddddddddddoooc:cdkkdlc\n",
        "''':oddddddxxxxkkkkkOOOOOOOOOkkkkxdddxxxkkOOOOkkxdolodxxddxxxxxxxdddoooc:dOOOkoc\n",
        ",,';oxxxdodxxxxkkkkkkOOOOOOOkkkkxdddxxxxxxkOkkkxxdolodxxxxxxxxxxxxxddoo:;xK000xl\n",
        ",'',ll;cooodxxxxxkkkkkkkkkkkkkkkxdxdl::codxxxddolcllodxxxxxxxxxxxxxddoo;;x000K0O\n",
        "',',;;,colooddxxxkkkkkkkkkkkkkkxdooc;,,;ccloolc;'';clodxxxxxxxxxxxxdddc''d0000KK\n",
        ",,'',,,;,,lddddxxxkkkkkkkkkkkkkkxollllllllc::::;,,;::ldxxxxxxxxxxxxdoo;..oO000KK\n",
        ",,,','''.':ododxxxxkkkkkkkkkkkkxxxdddddxxddollllccllodddxxxxxxxxddxdoc. .lkOO000\n",
        ",,,',;;;,,:odddxxxxxkkkkkkkkkxxxxxxxxxkkkkxxxxxdddddddddxxddxxxddddoc'...ckOOOOO\n",
        ",,,:oxxxddddddxxxxxxxkkkxxxxxxxxxxxxxkkkxxxxxkxxdddddddddddddddddolc,....cxkkkxx\n",
        "'',cdkkkkkkkxxddxxxxxxxkkxxxxxxxxkkxxxxxxxxxxxxxddddddooodooodooolc;....,lxxxxxx\n",
        "',',:ldxxxkkOkkxxxxxxxxxxxxdddddddooolloooooooooooooooooooooolllcc:'.,:ldxkkkkkx\n",
        ",,,'',:looxxkOOkkxdxxxxxdddoc:::::;::::;;;;;;;;;;;;:ccccllllllcccccldxkkkkkkxxxx\n",
        ",'''''',:oddkkOOkkkxddxxddddollllllllllccc::::::;,,,,,;::cllllllodxxkkkkkkkkxxdd\n",
        ",'''''''cxddxxxkkOkkxdxxdddddoooooooooooooooolllcc:ccc::ccllloddxxxxxxxxxxkxxoc;\n",
        "''''''',oOxddxxxkkOOkxdddddddddoooollccccccccccccccccccclooddddxddxxxxxxxxxoc,''\n",
        "''''''',d0kddxxxkkOOOkxdddddddooolcc:;;;;;;;;;;;;::clloddddxxddddxddxxddolc;''''\n",
        "''''''':x0OkdxkkkkO0Okxdoodddddddoollllllcc::::clooddddxxdxxxxdddddddolc;,''''''\n",
        "'''''''cO00OxdxkkkOOOOkdlllodxxxxxxxxddddddoodxxxxxxxdxxxddddddddooloooollolcccl\n",
        "'''''',lO000xdxkkkkOOOOkolccodxxxxxxxxxxxxxxkkkkkkkkkxxxxxxdddoollcldkOOOOOdodxk\n",
        "''''.',lOO0klokkkkOOOOOOOxdodxxkkkkkkkkkkkkkkkxxxkOkkkxxddddoolc::coxkkOOOxddxkx\n",
        "''''...,ldl'.:xkOOOOOOOOOOOOOOkkkkkkkkkkkkkkkkxxxxkkkkxddolool;'',cdkkkOOkxxkkxx\n",
        ".........'...cdkkkOOOOOOOOOOOOkkkkkkOOOOkkkkkkkkxxxkkxdooooool;,'',,;:lxkxxxkkkx\n",
        "..........'.,cdxxkkkOOOOOOOOOkkkkkkOOOOOkkkkkkkkxdxkkdooooddooolc:;,...;oxkkxkkd\n",
        "....''...'''';ldxxkkkkkkkkkkkkkkkkkkkkkkkkkkkkkkxxxkkdoodxxxxxdddddl:,';oxkkxkxo\n",
        "..''''....''.'codxkkkkkkkkkkkkkkkkkkkkkkkkkkkkkxxxxxxxddxkkkkkkkkkkxdlclxxkkkko;\n",
        "''''''.....'..,cdxxxxxkkkkkkkkkkkkkkkkkkkkkkkkxxdxxxxxxxxkkkkOOOOOkxxdodxxxxxx:.\n",
        ".'''''.......'';odxxxxxxxxkkkkkkxxkkkkkkkkkkkxxxxxkxxxxxxkkkkkkOOOkxdlcoddxddo,.\n",
        "..'''''........'cdxxxxxxxxxxxxxxxxxkxxxxxxxxxxxxxxxxxxxxxxxxkkkkkkkdc,;ldddddc..\n",
        "  \"\"\")"
      ],
      "metadata": {
        "id": "X-iHrItOWcoh"
      },
      "execution_count": 14,
      "outputs": []
    }
  ]
}